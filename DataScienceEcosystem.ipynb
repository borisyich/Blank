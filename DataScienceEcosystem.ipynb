{
 "cells": [
  {
   "cell_type": "markdown",
   "id": "7d40e76b-2ccd-4e2a-8dd8-539aa52756f8",
   "metadata": {},
   "source": [
    "# Data Science Tools and Ecosystem"
   ]
  },
  {
   "cell_type": "code",
   "execution_count": null,
   "id": "a3bd4969-2725-4afc-9dd3-59d03f69dc64",
   "metadata": {},
   "outputs": [],
   "source": []
  },
  {
   "cell_type": "markdown",
   "id": "014c701c-3fd3-49ed-abc0-9962b5534a59",
   "metadata": {},
   "source": [
    "In this notebook, Data Science Tools and Ecosystem are summarized"
   ]
  },
  {
   "cell_type": "code",
   "execution_count": null,
   "id": "c186c314-0b8a-4f25-a7cd-2eadba717771",
   "metadata": {},
   "outputs": [],
   "source": []
  },
  {
   "cell_type": "markdown",
   "id": "b47114b3-125a-4a8d-aef6-89fd9509722a",
   "metadata": {},
   "source": [
    "Some of the popular languages that Data Scientists use are:\n",
    "* Python\n",
    "* R\n",
    "* Julia"
   ]
  },
  {
   "cell_type": "code",
   "execution_count": null,
   "id": "e24bba8e-05e6-4e44-bf0d-5820a2c39205",
   "metadata": {},
   "outputs": [],
   "source": []
  },
  {
   "cell_type": "markdown",
   "id": "7dce0277-e445-4363-9c19-2d16a1381fb1",
   "metadata": {},
   "source": [
    "Some of the commonly used libraries used by Data Scientists includes:\n",
    "1. Pandas for python\n",
    "2. Numpy for python\n",
    "3. Matplotlib for python\n",
    "4. Ggplot2 for R"
   ]
  },
  {
   "cell_type": "code",
   "execution_count": null,
   "id": "af3678ee-fe43-4e4d-a22f-5ff01008624d",
   "metadata": {},
   "outputs": [],
   "source": []
  },
  {
   "cell_type": "markdown",
   "id": "6e1b8e56-6808-4031-9a8d-522e06e146d7",
   "metadata": {},
   "source": [
    "|Data Science Tools|\n",
    "|-|\n",
    "|Jupyter|\n",
    "|Anaconda navigator|\n",
    "|RStudio|"
   ]
  },
  {
   "cell_type": "code",
   "execution_count": null,
   "id": "89e123be-499a-4112-a330-d689e2431d32",
   "metadata": {},
   "outputs": [],
   "source": []
  },
  {
   "cell_type": "markdown",
   "id": "6a9125f6-49c7-436e-8e7e-56447750516b",
   "metadata": {},
   "source": [
    "### Below are a few examples of evaluating arithmetic expressions in Python"
   ]
  },
  {
   "cell_type": "code",
   "execution_count": null,
   "id": "7f83bbef-9b7d-4850-9a4c-b7889fb136bd",
   "metadata": {},
   "outputs": [],
   "source": []
  },
  {
   "cell_type": "markdown",
   "id": "c6906691-b50b-4117-84d4-4da7d7197227",
   "metadata": {},
   "source": [
    "This is a simple arithmetic expression to multiply then add integers"
   ]
  },
  {
   "cell_type": "code",
   "execution_count": 4,
   "id": "de375bab-b472-4e5e-bc9b-0c55501d5fbc",
   "metadata": {},
   "outputs": [
    {
     "data": {
      "text/plain": [
       "17"
      ]
     },
     "execution_count": 4,
     "metadata": {},
     "output_type": "execute_result"
    }
   ],
   "source": [
    "(3 * 4) + 5"
   ]
  },
  {
   "cell_type": "code",
   "execution_count": null,
   "id": "76d92906-cd2b-4764-8c5b-6ed62902cc8f",
   "metadata": {},
   "outputs": [],
   "source": []
  },
  {
   "cell_type": "markdown",
   "id": "7879b0ad-0a71-46ca-b2be-f9563d243315",
   "metadata": {},
   "source": [
    "This expression will convert 200 minutes to hours by diving by 60"
   ]
  },
  {
   "cell_type": "code",
   "execution_count": 6,
   "id": "8fcae27c-18c0-44f0-a096-1d4a06503b25",
   "metadata": {},
   "outputs": [
    {
     "data": {
      "text/plain": [
       "3.3333333333333335"
      ]
     },
     "execution_count": 6,
     "metadata": {},
     "output_type": "execute_result"
    }
   ],
   "source": [
    "200 / 60"
   ]
  },
  {
   "cell_type": "code",
   "execution_count": null,
   "id": "534fc6c3-3e74-455a-830a-64befdb4ee9a",
   "metadata": {
    "jp-MarkdownHeadingCollapsed": true
   },
   "outputs": [],
   "source": []
  },
  {
   "cell_type": "markdown",
   "id": "eb6c542f-0a38-42ca-9cd8-334a88252139",
   "metadata": {},
   "source": [
    "# **Objectives**\n",
    "* list popular languages for Data Science\n",
    "* list commonly used libraries for Data Science\n",
    "* list some Data Science tools\n",
    "* present a few examples of evaluating arithmetic expressions"
   ]
  },
  {
   "cell_type": "code",
   "execution_count": null,
   "id": "7f04d8b2-b7aa-422a-92ec-b7e013264f0c",
   "metadata": {},
   "outputs": [],
   "source": []
  },
  {
   "cell_type": "markdown",
   "id": "1a7dae1c-aaf0-4337-b50b-271e09eef6e8",
   "metadata": {},
   "source": [
    "## Author\n",
    "Marchenko Sergei"
   ]
  }
 ],
 "metadata": {
  "kernelspec": {
   "display_name": "Python 3 (ipykernel)",
   "language": "python",
   "name": "python3"
  },
  "language_info": {
   "codemirror_mode": {
    "name": "ipython",
    "version": 3
   },
   "file_extension": ".py",
   "mimetype": "text/x-python",
   "name": "python",
   "nbconvert_exporter": "python",
   "pygments_lexer": "ipython3",
   "version": "3.11.7"
  }
 },
 "nbformat": 4,
 "nbformat_minor": 5
}
